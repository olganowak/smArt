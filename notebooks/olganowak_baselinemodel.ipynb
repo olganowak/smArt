{
 "cells": [
  {
   "cell_type": "markdown",
   "id": "3fa95bfc-244c-4755-85ff-e5180a4360d2",
   "metadata": {},
   "source": [
    "### Baseline Model"
   ]
  },
  {
   "cell_type": "code",
   "execution_count": 40,
   "id": "7bb07a2c-7dba-4f92-ac4f-6fa4f325d888",
   "metadata": {},
   "outputs": [],
   "source": [
    "from tensorflow.keras.applications.vgg16 import VGG16\n",
    "from tensorflow.keras import models, layers, optimizers\n",
    "\n",
    "from sklearn.model_selection import train_test_split\n",
    "\n",
    "import pandas as pd\n",
    "import numpy as np\n",
    "\n",
    "import os\n",
    "import matplotlib.pyplot as plt\n",
    "import seaborn as sns\n",
    "from numpy import random\n",
    "import random"
   ]
  },
  {
   "cell_type": "code",
   "execution_count": 41,
   "id": "d77b0a7a-b4af-4cea-805f-80062880040a",
   "metadata": {},
   "outputs": [],
   "source": [
    "main = os.listdir(\"../raw_data/wikiart\")\n",
    "\n",
    "genres = []\n",
    "for genre in main:\n",
    "    if genre[0] != \".\":\n",
    "        genres.append(genre)\n",
    "\n",
    "data = sorted(genres)"
   ]
  },
  {
   "cell_type": "code",
   "execution_count": 42,
   "id": "a79a514b-0a72-466d-99f1-8c776a2c3ff5",
   "metadata": {},
   "outputs": [],
   "source": [
    "poc_list = [\"Realism\", \"Impressionism\"]"
   ]
  },
  {
   "cell_type": "code",
   "execution_count": 43,
   "id": "a3e0aca0-9b0d-43ac-9ff2-dc2fc6e7fa26",
   "metadata": {},
   "outputs": [
    {
     "name": "stdout",
     "output_type": "stream",
     "text": [
      "the genre is Realism\n",
      "101\n",
      "201\n",
      "301\n",
      "401\n",
      "501\n",
      "601\n",
      "701\n",
      "801\n",
      "901\n",
      "1001\n",
      "1101\n",
      "1201\n",
      "1301\n",
      "1401\n",
      "1501\n",
      "1601\n",
      "1701\n",
      "1801\n",
      "1901\n",
      "2001\n",
      "2101\n",
      "2201\n",
      "2301\n",
      "2401\n",
      "2501\n",
      "2601\n",
      "2701\n",
      "2801\n",
      "2901\n",
      "the genre is Impressionism\n",
      "101\n",
      "201\n",
      "301\n",
      "401\n",
      "501\n",
      "601\n",
      "701\n",
      "801\n",
      "901\n",
      "1001\n",
      "1101\n",
      "1201\n",
      "1301\n",
      "1401\n",
      "1501\n",
      "1601\n",
      "1701\n",
      "1801\n",
      "1901\n",
      "2001\n",
      "2101\n",
      "2201\n",
      "2301\n",
      "2401\n",
      "2501\n",
      "2601\n",
      "2701\n",
      "2801\n",
      "2901\n"
     ]
    }
   ],
   "source": [
    "from PIL import Image\n",
    "import glob, os\n",
    "\n",
    "paintings_list = []\n",
    "size = 128, 128\n",
    "\n",
    "for index, genre in enumerate(poc_list):\n",
    "    print(f\"the genre is {genre}\")\n",
    "    g = os.listdir(\"../raw_data/wikiart/\" + str(genre))\n",
    "    counter = 0\n",
    "    if len(g) > 2966:\n",
    "        i =random.sample(range(len(g)), 2966)\n",
    "        for num in i:\n",
    "            with Image.open(\"../raw_data/wikiart/\" + genre + \"/\" + g[num]) as im:\n",
    "                img_resized = im.resize(size)\n",
    "                image_array = np.array(img_resized)\n",
    "                #print(image_array.shape)\n",
    "                #paintings_list.append(image_array)\n",
    "                string = g[num][:-4]\n",
    "                string = string.replace(\"-\",\" \")\n",
    "                string = string.split(\"_\")\n",
    "                string.insert(0, genre)\n",
    "                string.insert(3, image_array)\n",
    "                paintings_list.append(string)\n",
    "                counter += 1\n",
    "                if counter % 100 == 0:\n",
    "                    print(counter+1)"
   ]
  },
  {
   "cell_type": "code",
   "execution_count": 48,
   "id": "d71ebb9a-4d01-4afc-b665-edcf0279a7b9",
   "metadata": {},
   "outputs": [
    {
     "data": {
      "text/html": [
       "<div>\n",
       "<style scoped>\n",
       "    .dataframe tbody tr th:only-of-type {\n",
       "        vertical-align: middle;\n",
       "    }\n",
       "\n",
       "    .dataframe tbody tr th {\n",
       "        vertical-align: top;\n",
       "    }\n",
       "\n",
       "    .dataframe thead th {\n",
       "        text-align: right;\n",
       "    }\n",
       "</style>\n",
       "<table border=\"1\" class=\"dataframe\">\n",
       "  <thead>\n",
       "    <tr style=\"text-align: right;\">\n",
       "      <th></th>\n",
       "      <th>0</th>\n",
       "      <th>1</th>\n",
       "      <th>2</th>\n",
       "      <th>3</th>\n",
       "      <th>4</th>\n",
       "      <th>5</th>\n",
       "    </tr>\n",
       "  </thead>\n",
       "  <tbody>\n",
       "    <tr>\n",
       "      <th>0</th>\n",
       "      <td>Realism</td>\n",
       "      <td>arthur segal</td>\n",
       "      <td>portrait of a man against the light 1935</td>\n",
       "      <td>[[[192, 193, 186], [191, 192, 184], [191, 193,...</td>\n",
       "      <td>None</td>\n",
       "      <td>None</td>\n",
       "    </tr>\n",
       "    <tr>\n",
       "      <th>1</th>\n",
       "      <td>Realism</td>\n",
       "      <td>vincent van gogh</td>\n",
       "      <td>lange vijverberg hague 1883</td>\n",
       "      <td>[[[184, 149, 94], [179, 146, 93], [189, 155, 1...</td>\n",
       "      <td>None</td>\n",
       "      <td>None</td>\n",
       "    </tr>\n",
       "    <tr>\n",
       "      <th>2</th>\n",
       "      <td>Realism</td>\n",
       "      <td>valentin serov</td>\n",
       "      <td>peasant woman in a cart 1896</td>\n",
       "      <td>[[[170, 162, 149], [164, 155, 151], [160, 158,...</td>\n",
       "      <td>None</td>\n",
       "      <td>None</td>\n",
       "    </tr>\n",
       "    <tr>\n",
       "      <th>3</th>\n",
       "      <td>Realism</td>\n",
       "      <td>konstantin makovsky</td>\n",
       "      <td>portrait of the boy</td>\n",
       "      <td>[[[223, 194, 146], [227, 192, 143], [230, 200,...</td>\n",
       "      <td>None</td>\n",
       "      <td>None</td>\n",
       "    </tr>\n",
       "    <tr>\n",
       "      <th>4</th>\n",
       "      <td>Realism</td>\n",
       "      <td>mikhail vrubel</td>\n",
       "      <td>dress</td>\n",
       "      <td>[[[225, 223, 226], [224, 222, 225], [222, 220,...</td>\n",
       "      <td>None</td>\n",
       "      <td>None</td>\n",
       "    </tr>\n",
       "    <tr>\n",
       "      <th>...</th>\n",
       "      <td>...</td>\n",
       "      <td>...</td>\n",
       "      <td>...</td>\n",
       "      <td>...</td>\n",
       "      <td>...</td>\n",
       "      <td>...</td>\n",
       "    </tr>\n",
       "    <tr>\n",
       "      <th>5927</th>\n",
       "      <td>Impressionism</td>\n",
       "      <td>edgar degas</td>\n",
       "      <td>landscape with hills 1890</td>\n",
       "      <td>[[[221, 205, 122], [214, 207, 132], [209, 212,...</td>\n",
       "      <td>None</td>\n",
       "      <td>None</td>\n",
       "    </tr>\n",
       "    <tr>\n",
       "      <th>5928</th>\n",
       "      <td>Impressionism</td>\n",
       "      <td>alfred sisley</td>\n",
       "      <td>welsh coast in the fog 1887</td>\n",
       "      <td>[[[248, 246, 225], [245, 241, 221], [245, 238,...</td>\n",
       "      <td>None</td>\n",
       "      <td>None</td>\n",
       "    </tr>\n",
       "    <tr>\n",
       "      <th>5929</th>\n",
       "      <td>Impressionism</td>\n",
       "      <td>iosif iser</td>\n",
       "      <td>silistra landscape</td>\n",
       "      <td>[[[81, 132, 153], [84, 135, 154], [90, 142, 15...</td>\n",
       "      <td>None</td>\n",
       "      <td>None</td>\n",
       "    </tr>\n",
       "    <tr>\n",
       "      <th>5930</th>\n",
       "      <td>Impressionism</td>\n",
       "      <td>william merritt chase</td>\n",
       "      <td>still life with flowers</td>\n",
       "      <td>[[[44, 33, 33], [53, 47, 45], [61, 58, 52], [6...</td>\n",
       "      <td>None</td>\n",
       "      <td>None</td>\n",
       "    </tr>\n",
       "    <tr>\n",
       "      <th>5931</th>\n",
       "      <td>Impressionism</td>\n",
       "      <td>pierre auguste renoir</td>\n",
       "      <td>the port of martigues 1888</td>\n",
       "      <td>[[[110, 114, 156], [94, 103, 150], [90, 98, 14...</td>\n",
       "      <td>None</td>\n",
       "      <td>None</td>\n",
       "    </tr>\n",
       "  </tbody>\n",
       "</table>\n",
       "<p>5932 rows × 6 columns</p>\n",
       "</div>"
      ],
      "text/plain": [
       "                  0                      1  \\\n",
       "0           Realism           arthur segal   \n",
       "1           Realism       vincent van gogh   \n",
       "2           Realism         valentin serov   \n",
       "3           Realism    konstantin makovsky   \n",
       "4           Realism         mikhail vrubel   \n",
       "...             ...                    ...   \n",
       "5927  Impressionism            edgar degas   \n",
       "5928  Impressionism          alfred sisley   \n",
       "5929  Impressionism             iosif iser   \n",
       "5930  Impressionism  william merritt chase   \n",
       "5931  Impressionism  pierre auguste renoir   \n",
       "\n",
       "                                             2  \\\n",
       "0     portrait of a man against the light 1935   \n",
       "1                  lange vijverberg hague 1883   \n",
       "2                 peasant woman in a cart 1896   \n",
       "3                          portrait of the boy   \n",
       "4                                        dress   \n",
       "...                                        ...   \n",
       "5927                 landscape with hills 1890   \n",
       "5928               welsh coast in the fog 1887   \n",
       "5929                        silistra landscape   \n",
       "5930                   still life with flowers   \n",
       "5931                the port of martigues 1888   \n",
       "\n",
       "                                                      3     4     5  \n",
       "0     [[[192, 193, 186], [191, 192, 184], [191, 193,...  None  None  \n",
       "1     [[[184, 149, 94], [179, 146, 93], [189, 155, 1...  None  None  \n",
       "2     [[[170, 162, 149], [164, 155, 151], [160, 158,...  None  None  \n",
       "3     [[[223, 194, 146], [227, 192, 143], [230, 200,...  None  None  \n",
       "4     [[[225, 223, 226], [224, 222, 225], [222, 220,...  None  None  \n",
       "...                                                 ...   ...   ...  \n",
       "5927  [[[221, 205, 122], [214, 207, 132], [209, 212,...  None  None  \n",
       "5928  [[[248, 246, 225], [245, 241, 221], [245, 238,...  None  None  \n",
       "5929  [[[81, 132, 153], [84, 135, 154], [90, 142, 15...  None  None  \n",
       "5930  [[[44, 33, 33], [53, 47, 45], [61, 58, 52], [6...  None  None  \n",
       "5931  [[[110, 114, 156], [94, 103, 150], [90, 98, 14...  None  None  \n",
       "\n",
       "[5932 rows x 6 columns]"
      ]
     },
     "execution_count": 48,
     "metadata": {},
     "output_type": "execute_result"
    }
   ],
   "source": [
    "df = pd.DataFrame(paintings_list)\n",
    "df"
   ]
  },
  {
   "cell_type": "code",
   "execution_count": 49,
   "id": "a340e33a-8441-4ab1-aebf-17a1e5a25212",
   "metadata": {},
   "outputs": [
    {
     "data": {
      "text/plain": [
       "Realism          2966\n",
       "Impressionism    2966\n",
       "Name: 0, dtype: int64"
      ]
     },
     "execution_count": 49,
     "metadata": {},
     "output_type": "execute_result"
    }
   ],
   "source": [
    "df[0].value_counts()"
   ]
  },
  {
   "cell_type": "code",
   "execution_count": 6,
   "id": "a02fe1c6-7c4b-4473-a092-46ae4900ad2f",
   "metadata": {},
   "outputs": [],
   "source": [
    "def load_model():\n",
    "    \n",
    "    # $CHALLENGIFY_BEGIN\n",
    "    \n",
    "    model = VGG16(weights=\"imagenet\", include_top=False, input_shape=(128,128,3))\n",
    "    \n",
    "    # $CHALLENGIFY_END\n",
    "    \n",
    "    return model"
   ]
  },
  {
   "cell_type": "code",
   "execution_count": 7,
   "id": "3350f315-4f5d-4ee9-a08a-f9dfd0b6bb24",
   "metadata": {},
   "outputs": [],
   "source": [
    "def set_nontrainable_layers(model):\n",
    "    \n",
    "    # $CHALLENGIFY_BEGIN\n",
    "    # Set the first layers to be untrainable\n",
    "    model.trainable = False\n",
    "    \n",
    "    # $CHALLENGIFY_END\n",
    "    \n",
    "    return model"
   ]
  },
  {
   "cell_type": "code",
   "execution_count": 8,
   "id": "33eaf86e-2627-4d22-b7e4-1521b268ccd5",
   "metadata": {},
   "outputs": [],
   "source": [
    "def add_last_layers(model):\n",
    "    '''Take a pre-trained model, set its parameters as non-trainable, and add additional trainable layers on top'''\n",
    "    # $CHALLENGIFY_BEGIN\n",
    "    base_model = set_nontrainable_layers(model)\n",
    "    flatten_layer = layers.Flatten()\n",
    "    dense_layer = layers.Dense(500, activation='relu')\n",
    "    prediction_layer = layers.Dense(1, activation='sigmoid')\n",
    "    \n",
    "    \n",
    "    model = models.Sequential([\n",
    "        base_model,\n",
    "        flatten_layer,\n",
    "        dense_layer,\n",
    "        prediction_layer\n",
    "    ])\n",
    "    # $CHALLENGIFY_END\n",
    "    return model\n"
   ]
  },
  {
   "cell_type": "code",
   "execution_count": 9,
   "id": "aab3a29f-4096-4128-a24c-4eb0c1154b18",
   "metadata": {},
   "outputs": [],
   "source": [
    "def build_model():\n",
    "    # $CHALLENGIFY_BEGIN    \n",
    "    model = load_model()\n",
    "    model = add_last_layers(model)\n",
    "    \n",
    "    opt = optimizers.Adam(learning_rate=1e-4)\n",
    "    model.compile(loss='binary_crossentropy',\n",
    "                  optimizer=opt,\n",
    "                  metrics=['accuracy'])\n",
    "    return model\n",
    "    # $CHALLENGIFY_END"
   ]
  },
  {
   "cell_type": "code",
   "execution_count": 10,
   "id": "2115c163-0b02-418b-9f58-b7c2aea90c32",
   "metadata": {},
   "outputs": [],
   "source": [
    "def tolist(x):\n",
    "    return x.tolist()"
   ]
  },
  {
   "cell_type": "code",
   "execution_count": 50,
   "id": "428dffd6-efaa-41c3-b335-f1ba704db1a6",
   "metadata": {},
   "outputs": [],
   "source": [
    "X = df[3]"
   ]
  },
  {
   "cell_type": "code",
   "execution_count": 51,
   "id": "4a6702c4-8fe8-4b25-aa79-94a5fbd8073f",
   "metadata": {},
   "outputs": [],
   "source": [
    "X = np.stack(X.values)"
   ]
  },
  {
   "cell_type": "code",
   "execution_count": 52,
   "id": "746bd1ac-4b79-43fb-82a8-4d831762781f",
   "metadata": {},
   "outputs": [],
   "source": [
    "#turn genre in binary\n",
    "def genre_to_binary(x):\n",
    "    if x == \"Realism\":\n",
    "        return 0\n",
    "    if x == \"Impressionism\":\n",
    "        return 1"
   ]
  },
  {
   "cell_type": "code",
   "execution_count": 53,
   "id": "4441b058-7f6a-4c63-a916-01bdf0d8aa5c",
   "metadata": {},
   "outputs": [],
   "source": [
    "y = df[0].apply(genre_to_binary)"
   ]
  },
  {
   "cell_type": "code",
   "execution_count": 54,
   "id": "b4d8c103-6ad7-40d2-bdd3-722d082f294c",
   "metadata": {},
   "outputs": [
    {
     "data": {
      "text/plain": [
       "0       0\n",
       "1       0\n",
       "2       0\n",
       "3       0\n",
       "4       0\n",
       "       ..\n",
       "5927    1\n",
       "5928    1\n",
       "5929    1\n",
       "5930    1\n",
       "5931    1\n",
       "Name: 0, Length: 5932, dtype: int64"
      ]
     },
     "execution_count": 54,
     "metadata": {},
     "output_type": "execute_result"
    }
   ],
   "source": [
    "y"
   ]
  },
  {
   "cell_type": "code",
   "execution_count": 55,
   "id": "896532fe-3bec-477b-96bc-213ea6ac68a6",
   "metadata": {},
   "outputs": [],
   "source": [
    "y = np.stack(y)"
   ]
  },
  {
   "cell_type": "code",
   "execution_count": 56,
   "id": "6f57bf91-a42b-487d-9601-d8b64d9e5883",
   "metadata": {},
   "outputs": [
    {
     "data": {
      "text/plain": [
       "array([0, 0, 0, ..., 1, 1, 1])"
      ]
     },
     "execution_count": 56,
     "metadata": {},
     "output_type": "execute_result"
    }
   ],
   "source": [
    "y"
   ]
  },
  {
   "cell_type": "code",
   "execution_count": 57,
   "id": "06f99684-2b82-4738-9de7-0516c99d52c3",
   "metadata": {},
   "outputs": [],
   "source": [
    "X_train, X_test, y_train, y_test = train_test_split(X, y, test_size=0.3, random_state=42)"
   ]
  },
  {
   "cell_type": "code",
   "execution_count": 58,
   "id": "2f21c73f-5704-4b62-a088-e658022e1057",
   "metadata": {},
   "outputs": [],
   "source": [
    "X_train, X_val, y_train, y_val = train_test_split(X_train, y_train)"
   ]
  },
  {
   "cell_type": "code",
   "execution_count": 59,
   "id": "6856370a-7bd7-4d9f-83fc-9051c5e2fa25",
   "metadata": {},
   "outputs": [
    {
     "data": {
      "text/plain": [
       "(3114, 128, 128, 3)"
      ]
     },
     "execution_count": 59,
     "metadata": {},
     "output_type": "execute_result"
    }
   ],
   "source": [
    "X_train.shape"
   ]
  },
  {
   "cell_type": "code",
   "execution_count": 60,
   "id": "14a3b365-2ba1-4a56-a580-67bac0ff2ed9",
   "metadata": {},
   "outputs": [
    {
     "data": {
      "text/plain": [
       "(3114,)"
      ]
     },
     "execution_count": 60,
     "metadata": {},
     "output_type": "execute_result"
    }
   ],
   "source": [
    "y_train.shape"
   ]
  },
  {
   "cell_type": "code",
   "execution_count": 23,
   "id": "c48a1c0a-724a-4bab-b74e-edb5c7ed47af",
   "metadata": {},
   "outputs": [
    {
     "data": {
      "text/plain": [
       "array([1, 1, 0, ..., 1, 0, 0])"
      ]
     },
     "execution_count": 23,
     "metadata": {},
     "output_type": "execute_result"
    }
   ],
   "source": [
    "y_train"
   ]
  },
  {
   "cell_type": "code",
   "execution_count": null,
   "id": "be3aeafd-f4db-4c5d-b04e-42319ad582e8",
   "metadata": {},
   "outputs": [
    {
     "name": "stdout",
     "output_type": "stream",
     "text": [
      "Epoch 1/50\n",
      "195/195 [==============================] - 544s 3s/step - loss: 2.9711 - accuracy: 0.6660 - val_loss: 2.0572 - val_accuracy: 0.6908\n",
      "Epoch 2/50\n",
      "195/195 [==============================] - 536s 3s/step - loss: 0.4295 - accuracy: 0.9024 - val_loss: 1.8416 - val_accuracy: 0.7322\n",
      "Epoch 3/50\n",
      "195/195 [==============================] - 482s 2s/step - loss: 0.0921 - accuracy: 0.9698 - val_loss: 1.8640 - val_accuracy: 0.7139\n",
      "Epoch 4/50\n",
      "195/195 [==============================] - ETA: 0s - loss: 0.0198 - accuracy: 0.9968"
     ]
    }
   ],
   "source": [
    "from tensorflow.keras.callbacks import EarlyStopping\n",
    "\n",
    "model = build_model()\n",
    "\n",
    "es = EarlyStopping(monitor = 'val_accuracy', \n",
    "                   mode = 'max', \n",
    "                   patience = 5, \n",
    "                   verbose = 1, \n",
    "                   restore_best_weights = True)\n",
    "\n",
    "history = model.fit(X_train, y_train, \n",
    "                    validation_data=(X_val, y_val), \n",
    "                    epochs=50, \n",
    "                    batch_size=32, \n",
    "                    callbacks=[es])"
   ]
  },
  {
   "cell_type": "code",
   "execution_count": null,
   "id": "ea53fc2f-ee4f-4bd7-b8b7-ba32d7d1b5e3",
   "metadata": {},
   "outputs": [],
   "source": [
    "df = pd.read_csv(\"../smArt/data/binary_train_20k.csv\")"
   ]
  },
  {
   "cell_type": "code",
   "execution_count": null,
   "id": "d60d8433-a5f5-4e1c-8b96-4e0c87f63db4",
   "metadata": {},
   "outputs": [],
   "source": [
    "df"
   ]
  },
  {
   "cell_type": "code",
   "execution_count": null,
   "id": "45e51ea6-f573-423a-8422-dd3c1af09a95",
   "metadata": {},
   "outputs": [],
   "source": []
  }
 ],
 "metadata": {
  "kernelspec": {
   "display_name": "Python 3 (ipykernel)",
   "language": "python",
   "name": "python3"
  },
  "language_info": {
   "codemirror_mode": {
    "name": "ipython",
    "version": 3
   },
   "file_extension": ".py",
   "mimetype": "text/x-python",
   "name": "python",
   "nbconvert_exporter": "python",
   "pygments_lexer": "ipython3",
   "version": "3.8.13"
  }
 },
 "nbformat": 4,
 "nbformat_minor": 5
}
